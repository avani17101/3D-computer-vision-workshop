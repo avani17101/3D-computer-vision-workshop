{
 "cells": [
  {
   "cell_type": "markdown",
   "metadata": {},
   "source": [
    "## Sample GAN using pytorch\n",
    "\n",
    "Provides a 1D GAN that learns a normal distribution\n",
    "\n",
    "Major parts of this are learned (aka lifted) from: \n",
    "https://github.com/devnag/pytorch-generative-adversarial-networks/blob/master/gan_pytorch.py\n",
    "\n"
   ]
  },
  {
   "cell_type": "code",
   "execution_count": 1,
   "metadata": {},
   "outputs": [],
   "source": [
    "import torch\n",
    "import torch.nn as nn\n",
    "import torch.optim as optim\n",
    "from torch.distributions.normal import Normal"
   ]
  },
  {
   "cell_type": "markdown",
   "metadata": {},
   "source": [
    "Define the distribution that we will learn"
   ]
  },
  {
   "cell_type": "code",
   "execution_count": 2,
   "metadata": {},
   "outputs": [],
   "source": [
    "data_mean = 3.0\n",
    "data_stddev = 0.2\n",
    "\n",
    "Series_Length = 30"
   ]
  },
  {
   "cell_type": "markdown",
   "metadata": {},
   "source": [
    "Define the shape of the generator\n",
    "\n",
    "Takes 20 random inputs and generates a distribution (as defined above)\n",
    "Hidden layer neuron count is defined. \n",
    "\n",
    "Change any of these to see what happens!"
   ]
  },
  {
   "cell_type": "code",
   "execution_count": 3,
   "metadata": {},
   "outputs": [],
   "source": [
    "g_input_size = 20    \n",
    "g_hidden_size = 150  \n",
    "g_output_size = Series_Length  "
   ]
  },
  {
   "cell_type": "markdown",
   "metadata": {},
   "source": [
    "Define the shape of the discrimiator network\n",
    "\n",
    "output is one value \n",
    "- True (1.0) matches desired distribution\n",
    "- False (0.0) does not match the distribution\n",
    "\n",
    "Change the hidden size to see effects"
   ]
  },
  {
   "cell_type": "code",
   "execution_count": 4,
   "metadata": {},
   "outputs": [],
   "source": [
    "d_input_size = Series_Length\n",
    "d_hidden_size = 75   \n",
    "d_output_size = 1"
   ]
  },
  {
   "cell_type": "markdown",
   "metadata": {},
   "source": [
    "Now define how to send data into the process\n",
    "\n",
    "There are two phases of training, train the discriminator\n",
    "then the generator. It seems to be important that the discriminator \n",
    "be 'better' than the generator. Sometimes more batches are sent to\n",
    "train the discriminator than the generator. In this case we \n",
    "put more stuff into the discriminator training.\n",
    "\n",
    "Note for real training use more than 5,000 epochs. This is a\n",
    "learning app."
   ]
  },
  {
   "cell_type": "code",
   "execution_count": 5,
   "metadata": {},
   "outputs": [],
   "source": [
    "d_minibatch_size = 15 \n",
    "g_minibatch_size = 10\n",
    "\n",
    "num_epochs = 5000\n",
    "print_interval = 1000"
   ]
  },
  {
   "cell_type": "markdown",
   "metadata": {},
   "source": [
    "Set the learning rates. Do experiment with these too. Too small will\n",
    "be slow converging, too large and we may oscillate around a solution."
   ]
  },
  {
   "cell_type": "code",
   "execution_count": 6,
   "metadata": {},
   "outputs": [],
   "source": [
    "d_learning_rate = 3e-3\n",
    "g_learning_rate = 8e-3"
   ]
  },
  {
   "cell_type": "markdown",
   "metadata": {},
   "source": [
    "Define two functions to return functions that provide\n",
    "a true sample and some random noise. The true sample\n",
    "trains the discriminator, the random noise feeds the \n",
    "generator.\n",
    "\n",
    "Make local copies of the signal generator functions"
   ]
  },
  {
   "cell_type": "code",
   "execution_count": 7,
   "metadata": {},
   "outputs": [],
   "source": [
    "def get_real_sampler(mu, sigma):\n",
    "    dist = Normal( mu, sigma )\n",
    "    return lambda m, n: dist.sample( (m, n) ).requires_grad_()\n",
    "\n",
    "def get_noise_sampler():\n",
    "    return lambda m, n: torch.rand(m, n).requires_grad_()  # Uniform-dist data into generator, _NOT_ Gaussian\n",
    "\n",
    "actual_data = get_real_sampler( data_mean, data_stddev )\n",
    "noise_data  = get_noise_sampler()"
   ]
  },
  {
   "cell_type": "markdown",
   "metadata": {},
   "source": [
    "Define the generator \n",
    "\n",
    "It's important the generator can output means that match. Be careful\n",
    "using something like sigmoid, which outputs 0..1. That would not learn\n",
    "something with mean 2.0 !\n",
    "\n",
    "This is a pretty simple 4 layer network, takes in noise\n",
    "and produces an output.\n",
    "\n",
    "xfer is the transfer function"
   ]
  },
  {
   "cell_type": "code",
   "execution_count": 8,
   "metadata": {},
   "outputs": [],
   "source": [
    "class Generator(nn.Module):\n",
    "    def __init__(self, input_size, hidden_size, output_size):\n",
    "        super(Generator, self).__init__()\n",
    "        self.map1 = nn.Linear(input_size, hidden_size)\n",
    "        self.map2 = nn.Linear(hidden_size, hidden_size)\n",
    "        self.map3 = nn.Linear(hidden_size, output_size)\n",
    "        self.xfer = torch.nn.SELU()\n",
    "\n",
    "    def forward(self, x):\n",
    "        x = self.xfer( self.map1(x) )\n",
    "        x = self.xfer( self.map2(x) )\n",
    "        return self.xfer( self.map3( x ) )"
   ]
  },
  {
   "cell_type": "markdown",
   "metadata": {},
   "source": [
    "Note the last layer should restrict to 0..1 (opposite of the generator)\n",
    "This allows us more choice in loss functions.\n",
    "\n",
    "This network is a classic multilayer perceptron - really nothing\n",
    "special at all. It returns true/false based on the learned\n",
    "function."
   ]
  },
  {
   "cell_type": "code",
   "execution_count": 9,
   "metadata": {},
   "outputs": [],
   "source": [
    "class Discriminator(nn.Module):\n",
    "    def __init__(self, input_size, hidden_size, output_size):\n",
    "        super(Discriminator, self).__init__()\n",
    "        self.map1 = nn.Linear(input_size, hidden_size)\n",
    "        self.map2 = nn.Linear(hidden_size, hidden_size)\n",
    "        self.map3 = nn.Linear(hidden_size, output_size)\n",
    "        self.elu = torch.nn.ELU()\n",
    "\n",
    "    def forward(self, x):\n",
    "        x = self.elu(self.map1(x))\n",
    "        x = self.elu(self.map2(x))\n",
    "        return torch.sigmoid( self.map3(x) )"
   ]
  },
  {
   "cell_type": "markdown",
   "metadata": {},
   "source": [
    "OK let's create the two networks"
   ]
  },
  {
   "cell_type": "code",
   "execution_count": 10,
   "metadata": {},
   "outputs": [],
   "source": [
    "G = Generator(input_size=g_input_size, hidden_size=g_hidden_size, output_size=g_output_size)\n",
    "D = Discriminator(input_size=d_input_size, hidden_size=d_hidden_size, output_size=d_output_size)"
   ]
  },
  {
   "cell_type": "markdown",
   "metadata": {},
   "source": [
    "Nearly there ... just setup the learning rules:\n",
    "\n",
    "- a loss function\n",
    "- optimizers for each network\n",
    "\n",
    "Feel free to choose alternatives here."
   ]
  },
  {
   "cell_type": "code",
   "execution_count": 11,
   "metadata": {},
   "outputs": [],
   "source": [
    "criterion = nn.BCELoss()\n",
    "d_optimizer = optim.SGD(D.parameters(), lr=d_learning_rate ) #, betas=optim_betas)\n",
    "g_optimizer = optim.SGD(G.parameters(), lr=g_learning_rate ) #, betas=optim_betas)"
   ]
  },
  {
   "cell_type": "markdown",
   "metadata": {},
   "source": [
    "This fires in real data and learns a 1.0 mapping"
   ]
  },
  {
   "cell_type": "code",
   "execution_count": 12,
   "metadata": {},
   "outputs": [],
   "source": [
    "def train_D_on_actual() :\n",
    "    real_data = actual_data( d_minibatch_size, d_input_size )\n",
    "    decision = D( real_data )\n",
    "    error = criterion( decision, torch.ones( d_minibatch_size, 1 ))  # ones = true\n",
    "    error.backward() "
   ]
  },
  {
   "cell_type": "markdown",
   "metadata": {},
   "source": [
    "The other side of training: learn to recognize fake output from\n",
    "the generator."
   ]
  },
  {
   "cell_type": "code",
   "execution_count": 13,
   "metadata": {},
   "outputs": [],
   "source": [
    "def train_D_on_generated() :\n",
    "    noise = noise_data( d_minibatch_size, g_input_size )\n",
    "    fake_data = G( noise ) \n",
    "    decision = D( fake_data )\n",
    "    error = criterion( decision, torch.zeros( d_minibatch_size, 1 ))  # zeros = fake\n",
    "    error.backward()"
   ]
  },
  {
   "cell_type": "markdown",
   "metadata": {},
   "source": [
    "The training for the generator is to assume that the generator\n",
    "produces perfect data (i.e. the discriminator returns 1.0).\n",
    "Then learn how to improve the output from the generator based on the discriminators actual output.\n",
    "\n",
    "This is the key piece of a GAN:\n",
    "pass the error through both networks, but only update the generators\n",
    "weights."
   ]
  },
  {
   "cell_type": "code",
   "execution_count": 14,
   "metadata": {},
   "outputs": [],
   "source": [
    "def train_G():\n",
    "    noise = noise_data( g_minibatch_size, g_input_size )\n",
    "    fake_data = G( noise )\n",
    "    fake_decision = D( fake_data )\n",
    "    error = criterion( fake_decision, torch.ones( g_minibatch_size, 1 ) )  # we want to fool, so pretend it's all genuine\n",
    "\n",
    "    error.backward()\n",
    "    return error.item(), fake_data"
   ]
  },
  {
   "cell_type": "markdown",
   "metadata": {},
   "source": [
    "The main loop, train based on loads of data.\n",
    "\n",
    "The algo works like this:\n",
    "    \n",
    "Step 1 is plain old batch learning, if the rest of the code were\n",
    "removed you would have a network that can identify the desired distribution\n",
    "\n",
    "- train the discriminator just like you would train any network\n",
    "- use both true and false (generated) samples to learn\n",
    "\n",
    "Step 2 is the GAN difference\n",
    "- train the generator to produce, but don't compare the output to a good sample\n",
    "- feed the sample generated output through the disciminator to spot the fake\n",
    "- backpropagate the error through the discriminator and the generator\n",
    "\n",
    "So let's think about the possible cases (in *all* cases only the generators parameters \n",
    "are updated in the step 2)\n",
    "\n",
    "*Discrimator perfect, Generator Perfect*\n",
    "Generator makes a sample which is identified as 1.0. Error is 0.0, no learning occurs\n",
    "\n",
    "*Discrimator perfect, Generator Rubbish*\n",
    "Generator makes noise which is identified as 0.0. Error is 1.0, error is propagated and the generator learns\n",
    "\n",
    "*Discrimator rubbish, Generator Perfect*\n",
    "Generator makes sample which is identified as 0.0. Error is 1.0, error is propagated the generator would not learn much because the error would be absorbed by the discriminator\n",
    "\n",
    "*Discrimator rubbish, Generator Rubbish*\n",
    "Generator makes sample which is identified as 0.5. Error is 0.5, error is propagated the gradients in the discriminator and generator would mean the error is shared between both\n",
    "and learning occurs\n",
    "\n",
    "### This step can be slow - depending on the compute power available\n"
   ]
  },
  {
   "cell_type": "code",
   "execution_count": 15,
   "metadata": {},
   "outputs": [
    {
     "name": "stdout",
     "output_type": "stream",
     "text": [
      "Epoch   1000. Loss 0.612\n",
      "Epoch   2000. Loss 0.689\n",
      "Epoch   3000. Loss 0.693\n",
      "Epoch   4000. Loss 0.692\n",
      "Epoch   5000. Loss 0.693\n",
      "Training complete\n"
     ]
    }
   ],
   "source": [
    "losses = []\n",
    "\n",
    "for epoch in range(num_epochs):\n",
    "    D.zero_grad()\n",
    "    \n",
    "    train_D_on_actual()    \n",
    "    train_D_on_generated()\n",
    "    d_optimizer.step()\n",
    "    \n",
    "    G.zero_grad()\n",
    "    loss,generated = train_G()\n",
    "    g_optimizer.step()\n",
    "    \n",
    "    losses.append( loss )\n",
    "    if( epoch % print_interval) == (print_interval-1) :\n",
    "        print( \"Epoch %6d. Loss %5.3f\" % ( epoch+1, loss ) )\n",
    "        \n",
    "print( \"Training complete\" )"
   ]
  },
  {
   "cell_type": "markdown",
   "metadata": {},
   "source": [
    "After training everything we'll generate some samples and draw them. It's easy enough\n",
    "to see that we have something like a nice normal distribution.\n",
    "This step is entirely optional but it's nice to see what we did actually worked."
   ]
  },
  {
   "cell_type": "code",
   "execution_count": 16,
   "metadata": {},
   "outputs": [],
   "source": [
    "import matplotlib.pyplot as plt\n",
    "\n",
    "def draw( data ) :    \n",
    "    plt.figure()\n",
    "    d = data.tolist() if isinstance(data, torch.Tensor ) else data\n",
    "    plt.plot( d ) \n",
    "    plt.show()"
   ]
  },
  {
   "cell_type": "code",
   "execution_count": 17,
   "metadata": {},
   "outputs": [
    {
     "data": {
      "image/png": "[encoded data removed]",
      "text/plain": [
       "<Figure size 432x288 with 1 Axes>"
      ]
     },
     "metadata": {},
     "output_type": "display_data"
    }
   ],
   "source": [
    "d = torch.empty( generated.size(0), 53 ) \n",
    "for i in range( 0, d.size(0) ) :\n",
    "    d[i] = torch.histc( generated[i], min=0, max=5, bins=53 )\n",
    "draw( d.t() )"
   ]
  },
  {
   "cell_type": "code",
   "execution_count": null,
   "metadata": {},
   "outputs": [],
   "source": []
  }
 ],
 "metadata": {
  "kernelspec": {
   "display_name": "Python 3",
   "language": "python",
   "name": "python3"
  },
  "language_info": {
   "codemirror_mode": {
    "name": "ipython",
    "version": 3
   },
   "file_extension": ".py",
   "mimetype": "text/x-python",
   "name": "python",
   "nbconvert_exporter": "python",
   "pygments_lexer": "ipython3",
   "version": "3.6.5"
  }
 },
 "nbformat": 4,
 "nbformat_minor": 2
}
